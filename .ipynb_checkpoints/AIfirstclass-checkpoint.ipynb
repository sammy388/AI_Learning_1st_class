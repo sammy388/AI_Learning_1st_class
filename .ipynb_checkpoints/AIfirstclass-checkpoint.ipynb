{
 "cells": [
  {
   "cell_type": "markdown",
   "metadata": {},
   "source": [
    "# AI入门第一课：线性回归与房价预测"
   ]
  },
  {
   "cell_type": "markdown",
   "metadata": {},
   "source": [
    "# 1. 引言"
   ]
  },
  {
   "cell_type": "markdown",
   "metadata": {},
   "source": [
    "人工智能AI（Artificial Intelligence）是最近几年来非常热门话题之一。虽然，现阶段的技术和电影里的那种广义的强人工智能AGI（Artificial General Intelligence）还相去甚远，但是，近些年，弱人工智能（Artificial Narrow Intelligence）的技术应用的的确确地改变了我们的日常。我们的生活和工作中使用的各种APP里都随处可见AI的影子。随着智能手机等移动电子设备的普及，近十年来人类的活动大量转化成为数据。那么，如何能有效地利用这些数据来改善我们的生活哪？机器学习为我们提供了一个的有效途径。"
   ]
  },
  {
   "cell_type": "markdown",
   "metadata": {},
   "source": [
    "机器学习ML（Machine Learning）是指让机器通过训练获得某种能力，在某种程度上具有一定的“智能”，从而实现某些功能。其常用领域包括：回归，分类和聚类三大类。"
   ]
  },
  {
   "cell_type": "markdown",
   "metadata": {},
   "source": [
    "今天我们就通过机器学习里最简单的线性回归来解决一个现实生活中可能遇到的实际问题。\n",
    "\n",
    "假如你有一处位于北京海淀区五道口附近的110平方米的房产准备出售。但由于房价的时时变化，成交之前你需要确定合理的房屋股价。当然你可以咨询有经验的房产中介。然而，我们也可以自己通过互联网上现有的数据自己来做这个房产中介。"
   ]
  },
  {
   "cell_type": "markdown",
   "metadata": {},
   "source": [
    "打开58同城等一类网站，你会看到数不尽的二手房屋广告信息。但是，大家对成交的预期价格各不相同。如果我们能够掌握网站上同地段，同类型房屋的所有相关数据，那么，我们就可以自己成为一个“经验丰富”的房屋中介，自己动手来估计房屋合理的成交价格。"
   ]
  },
  {
   "cell_type": "markdown",
   "metadata": {},
   "source": [
    "# 2. 数据抓取"
   ]
  },
  {
   "cell_type": "markdown",
   "metadata": {},
   "source": [
    "抓取数据可以通过python完成，这里我们采用一个相对更容易上手的办法，使用后羿数据采集器抓取。[后羿数据采集器下载地址](http://www.houyicaiji.com/)。如果想通过python自己编程完成数据的抓取，推荐[李骏老师Web数据抓取教程](https://www.bilibili.com/video/BV1hE411M7Rt)。"
   ]
  },
  {
   "cell_type": "markdown",
   "metadata": {},
   "source": [
    "安装结束后，首先打开[58同城](https://bj.58.com/ershoufang/)网站，搜索我们所需要的数据。在二手房页面里添加搜索关键词“北京”，“朝阳区”，“五道口”，房屋类型选择“类型-普通住宅“，开始搜索。"
   ]
  },
  {
   "cell_type": "markdown",
   "metadata": {},
   "source": [
    "<img src=\"assets/58.png\" width=\"800\">"
   ]
  },
  {
   "cell_type": "markdown",
   "metadata": {},
   "source": [
    "复制58同城搜索结果页面网址，打开后羿数据采集器界面。添加该网址，右下角点击“开始采集”+“启动”。"
   ]
  },
  {
   "cell_type": "markdown",
   "metadata": {},
   "source": [
    "<img src=\"assets/website_input.png\" width=\"800\">"
   ]
  },
  {
   "cell_type": "markdown",
   "metadata": {},
   "source": [
    "等待网页信息加载完毕。点击下部“清空所有”按钮（图中1），然后点击“添加字段”（图中2），房屋价格主要与房屋面积相关，这里我们先加载这两个数据，点击选择需要添加的字段（图中3），如有其他数据需要添加，可以重复第2，3步骤直至添加所有需要字段。"
   ]
  },
  {
   "cell_type": "markdown",
   "metadata": {},
   "source": [
    "<img src=\"assets/add_string.png\" width=\"800\">"
   ]
  },
  {
   "cell_type": "markdown",
   "metadata": {},
   "source": [
    "添加字段完成后效果如下图。"
   ]
  },
  {
   "cell_type": "markdown",
   "metadata": {},
   "source": [
    "<img src=\"assets/string_done.png\" width=\"800\">"
   ]
  },
  {
   "cell_type": "markdown",
   "metadata": {},
   "source": [
    "点击界面右下角“开始采集”，等待采集完成。例如，本次采集共耗时1分13秒，采集4页191条数据。（如果采集数据过多，中途可以随时停止。）"
   ]
  },
  {
   "cell_type": "markdown",
   "metadata": {},
   "source": [
    "<img src=\"assets/collectdone.png\" width=\"800\">"
   ]
  },
  {
   "cell_type": "markdown",
   "metadata": {},
   "source": [
    "选择合适的路径将采集的数据导出，可存为所需要的格式，如xls,csv,txt,html文件，也可存储成常用的数据库。本例中我们将数据保存为Excel文件。\n",
    "\n",
    "以上步骤就完成了网络数据抓取的全部工作。"
   ]
  },
  {
   "cell_type": "markdown",
   "metadata": {},
   "source": [
    "<img src=\"assets/output.png\" width=\"800\">"
   ]
  },
  {
   "cell_type": "markdown",
   "metadata": {},
   "source": [
    "# 3. 数据清洗"
   ]
  },
  {
   "cell_type": "markdown",
   "metadata": {},
   "source": [
    "下面，我们就开始使用python完成接下来的工作。先查看我们所下载的数据。这里我们先import需要用到的库，如numpy，pandas和matplotlib等，对于这几个常用库的使用方法可以参考李骏老师B站的[教程](https://www.bilibili.com/video/BV1b7411t7yN)。没有安装的话可以通过pip install安装。"
   ]
  },
  {
   "cell_type": "code",
   "execution_count": 1,
   "metadata": {},
   "outputs": [],
   "source": [
    "import numpy as np\n",
    "import pandas as pd\n",
    "import matplotlib.pyplot as plt"
   ]
  },
  {
   "cell_type": "markdown",
   "metadata": {},
   "source": [
    "使用pandas导入xlsx文件，本例中所使用的房价数据可以从目录下的assets文件夹中下载，打开文件可以发现下载的结果是一组119行4列的数据，前两列是房屋名称和链接地址，这些信息本例中并不需要，下载的目的只是为了在查看时对感兴趣的房屋直接点击链接进行查看，后面两列数据才是我们计算所需要的。"
   ]
  },
  {
   "cell_type": "code",
   "execution_count": 2,
   "metadata": {},
   "outputs": [
    {
     "data": {
      "text/html": [
       "<div>\n",
       "<style scoped>\n",
       "    .dataframe tbody tr th:only-of-type {\n",
       "        vertical-align: middle;\n",
       "    }\n",
       "\n",
       "    .dataframe tbody tr th {\n",
       "        vertical-align: top;\n",
       "    }\n",
       "\n",
       "    .dataframe thead th {\n",
       "        text-align: right;\n",
       "    }\n",
       "</style>\n",
       "<table border=\"1\" class=\"dataframe\">\n",
       "  <thead>\n",
       "    <tr style=\"text-align: right;\">\n",
       "      <th></th>\n",
       "      <th>name</th>\n",
       "      <th>link</th>\n",
       "      <th>area</th>\n",
       "      <th>price</th>\n",
       "    </tr>\n",
       "  </thead>\n",
       "  <tbody>\n",
       "    <tr>\n",
       "      <th>0</th>\n",
       "      <td>地质有钥匙随时看满五年公房带露台无遮挡大客厅 2</td>\n",
       "      <td>https://bj.58.com/ershoufang/43095173255044x.s...</td>\n",
       "      <td>52.45㎡</td>\n",
       "      <td>460.0</td>\n",
       "    </tr>\n",
       "    <tr>\n",
       "      <th>1</th>\n",
       "      <td>五道口地大南北带电梯1居 满五年公房</td>\n",
       "      <td>https://bj.58.com/ershoufang/43095173253139x.s...</td>\n",
       "      <td>49.1㎡</td>\n",
       "      <td>415.0</td>\n",
       "    </tr>\n",
       "    <tr>\n",
       "      <th>2</th>\n",
       "      <td>五道口 东*园 南北向2居室</td>\n",
       "      <td>https://bj.58.com/ershoufang/43095126680093x.s...</td>\n",
       "      <td>83.7㎡</td>\n",
       "      <td>740.0</td>\n",
       "    </tr>\n",
       "    <tr>\n",
       "      <th>3</th>\n",
       "      <td>五道口东*园满五唯一2居 双卧朝东 靠谱卖 随时</td>\n",
       "      <td>https://bj.58.com/ershoufang/43095126676637x.s...</td>\n",
       "      <td>70.18㎡</td>\n",
       "      <td>715.0</td>\n",
       "    </tr>\n",
       "    <tr>\n",
       "      <th>4</th>\n",
       "      <td>价格能大谈！清华家属院西王庄 全明两居室 精装修</td>\n",
       "      <td>https://bj.58.com/ershoufang/42741149564300x.s...</td>\n",
       "      <td>56.7㎡</td>\n",
       "      <td>510.0</td>\n",
       "    </tr>\n",
       "  </tbody>\n",
       "</table>\n",
       "</div>"
      ],
      "text/plain": [
       "                       name  \\\n",
       "0  地质有钥匙随时看满五年公房带露台无遮挡大客厅 2   \n",
       "1        五道口地大南北带电梯1居 满五年公房   \n",
       "2            五道口 东*园 南北向2居室   \n",
       "3  五道口东*园满五唯一2居 双卧朝东 靠谱卖 随时   \n",
       "4  价格能大谈！清华家属院西王庄 全明两居室 精装修   \n",
       "\n",
       "                                                link    area  price  \n",
       "0  https://bj.58.com/ershoufang/43095173255044x.s...  52.45㎡  460.0  \n",
       "1  https://bj.58.com/ershoufang/43095173253139x.s...   49.1㎡  415.0  \n",
       "2  https://bj.58.com/ershoufang/43095126680093x.s...   83.7㎡  740.0  \n",
       "3  https://bj.58.com/ershoufang/43095126676637x.s...  70.18㎡  715.0  \n",
       "4  https://bj.58.com/ershoufang/42741149564300x.s...   56.7㎡  510.0  "
      ]
     },
     "execution_count": 2,
     "metadata": {},
     "output_type": "execute_result"
    }
   ],
   "source": [
    "df = pd.read_excel('assets/58data.xlsx','sheet1',names = ['name','link','area','price'])\n",
    "df.head()"
   ]
  },
  {
   "cell_type": "markdown",
   "metadata": {},
   "source": [
    "接下来，我们进行数据清洗工作。拿到的数据相对简单，在前面的数据抓取过程中已经做过了初步的筛选，因此不需要进行过多的处理。此时仅仅需要进行2个动作。\n",
    "1. 由于下载时无法分开选择，房屋面积一列单位 m<sup>2</sup> 也被一起抓取下来。针对该列房屋面积数值和单位混合在一起的情况，可以使用apply去除多余的字节。\n",
    "2. 前面两列数据也是计算中不相关的，可以用drop将其去掉。"
   ]
  },
  {
   "cell_type": "code",
   "execution_count": 3,
   "metadata": {},
   "outputs": [
    {
     "data": {
      "text/html": [
       "<div>\n",
       "<style scoped>\n",
       "    .dataframe tbody tr th:only-of-type {\n",
       "        vertical-align: middle;\n",
       "    }\n",
       "\n",
       "    .dataframe tbody tr th {\n",
       "        vertical-align: top;\n",
       "    }\n",
       "\n",
       "    .dataframe thead th {\n",
       "        text-align: right;\n",
       "    }\n",
       "</style>\n",
       "<table border=\"1\" class=\"dataframe\">\n",
       "  <thead>\n",
       "    <tr style=\"text-align: right;\">\n",
       "      <th></th>\n",
       "      <th>area</th>\n",
       "      <th>price</th>\n",
       "    </tr>\n",
       "  </thead>\n",
       "  <tbody>\n",
       "    <tr>\n",
       "      <th>0</th>\n",
       "      <td>52.45</td>\n",
       "      <td>460.0</td>\n",
       "    </tr>\n",
       "    <tr>\n",
       "      <th>1</th>\n",
       "      <td>49.10</td>\n",
       "      <td>415.0</td>\n",
       "    </tr>\n",
       "    <tr>\n",
       "      <th>2</th>\n",
       "      <td>83.70</td>\n",
       "      <td>740.0</td>\n",
       "    </tr>\n",
       "    <tr>\n",
       "      <th>3</th>\n",
       "      <td>70.18</td>\n",
       "      <td>715.0</td>\n",
       "    </tr>\n",
       "    <tr>\n",
       "      <th>4</th>\n",
       "      <td>56.70</td>\n",
       "      <td>510.0</td>\n",
       "    </tr>\n",
       "  </tbody>\n",
       "</table>\n",
       "</div>"
      ],
      "text/plain": [
       "    area  price\n",
       "0  52.45  460.0\n",
       "1  49.10  415.0\n",
       "2  83.70  740.0\n",
       "3  70.18  715.0\n",
       "4  56.70  510.0"
      ]
     },
     "execution_count": 3,
     "metadata": {},
     "output_type": "execute_result"
    }
   ],
   "source": [
    "df['area'] = df['area'].apply(lambda x:x[:-1]) \n",
    "df['area'] = df['area'].astype('float64')\n",
    "df = df.drop(columns = ['name','link'])\n",
    "df.head()"
   ]
  },
  {
   "cell_type": "markdown",
   "metadata": {},
   "source": [
    "完成以上两步操作后，可以再次查看，我们获得了非常干净的数据。只剩下我们需要使用的两列数据，且房屋面积列的单位 m<sup>2</sup> 也被去掉了。"
   ]
  },
  {
   "cell_type": "markdown",
   "metadata": {},
   "source": [
    "接下来，可以使用matplotlib将抓取的数据通过二维平面坐标系的散点图形式画出来。"
   ]
  },
  {
   "cell_type": "code",
   "execution_count": 4,
   "metadata": {},
   "outputs": [
    {
     "data": {
      "image/png": "[encoded data removed]",
      "text/plain": [
       "<Figure size 864x576 with 1 Axes>"
      ]
     },
     "metadata": {
      "needs_background": "light"
     },
     "output_type": "display_data"
    }
   ],
   "source": [
    "fig, ax = plt.subplots(figsize=(12,8))\n",
    "ax.scatter(df.area, df.price, label='58 Data')\n",
    "ax.legend(loc=2)\n",
    "ax.set_xlabel('Area')\n",
    "ax.set_ylabel('Price')\n",
    "ax.set_title('Price vs Area')\n",
    "plt.show()"
   ]
  },
  {
   "cell_type": "markdown",
   "metadata": {},
   "source": [
    "# 3. 线性回归"
   ]
  },
  {
   "cell_type": "markdown",
   "metadata": {},
   "source": [
    "从数据散点图中不难发现，房价随着房屋面积的整体趋势是线性上升的。可以通过直线去拟合我们的数据，获得其趋势，从而对房屋价格进行估计。"
   ]
  },
  {
   "cell_type": "markdown",
   "metadata": {},
   "source": [
    "实现线性回归的方法有很多，下面我们介绍两种实现方法：\n",
    "1. 使用scikit learn库实现线性回归。\n",
    "2. 自己编程梯度下降算法实现线性回归。"
   ]
  },
  {
   "cell_type": "markdown",
   "metadata": {},
   "source": [
    "## 3.1 sklearn方法实现线性回归"
   ]
  },
  {
   "cell_type": "markdown",
   "metadata": {},
   "source": [
    "Scikit-learn是Python编程语言的免费软件机器学习库。它具有各种分类，回归和聚类算法，包括支持向量机，随机森林，梯度提升，k均值和DBSCAN，旨在与Python数值和科学库NumPy和SciPy进行互操作。使用起来非常方便。"
   ]
  },
  {
   "cell_type": "code",
   "execution_count": 5,
   "metadata": {},
   "outputs": [],
   "source": [
    "from sklearn.linear_model import LinearRegression"
   ]
  },
  {
   "cell_type": "code",
   "execution_count": 6,
   "metadata": {},
   "outputs": [
    {
     "data": {
      "text/plain": [
       "(191, 1)"
      ]
     },
     "execution_count": 6,
     "metadata": {},
     "output_type": "execute_result"
    }
   ],
   "source": [
    "X = np.mat(df.area).T\n",
    "X.shape"
   ]
  },
  {
   "cell_type": "code",
   "execution_count": 7,
   "metadata": {},
   "outputs": [
    {
     "data": {
      "text/plain": [
       "(191, 1)"
      ]
     },
     "execution_count": 7,
     "metadata": {},
     "output_type": "execute_result"
    }
   ],
   "source": [
    "y = np.mat(df.price).T\n",
    "y.shape"
   ]
  },
  {
   "cell_type": "code",
   "execution_count": 8,
   "metadata": {},
   "outputs": [],
   "source": [
    "linreg = LinearRegression().fit(X, y)"
   ]
  },
  {
   "cell_type": "code",
   "execution_count": 9,
   "metadata": {},
   "outputs": [
    {
     "data": {
      "image/png": "[encoded data removed]",
      "text/plain": [
       "<Figure size 864x576 with 1 Axes>"
      ]
     },
     "metadata": {
      "needs_background": "light"
     },
     "output_type": "display_data"
    }
   ],
   "source": [
    "x_p = np.linspace(df.area.min(), df.area.max(), 100)\n",
    "y_p = linreg.intercept_ + (linreg.coef_ * x_p)\n",
    "\n",
    "fig, ax = plt.subplots(figsize=(12,8))\n",
    "ax.plot(x_p, y_p.ravel(), 'r', label='Prediction')\n",
    "ax.scatter(df.area, df.price, label='Traning Data')\n",
    "ax.legend(loc=2)\n",
    "ax.set_xlabel('Area')\n",
    "ax.set_ylabel('Price')\n",
    "ax.set_title('Price regression')\n",
    "plt.show()"
   ]
  },
  {
   "cell_type": "markdown",
   "metadata": {},
   "source": [
    "以上就是通过sklearn实现线性回归的过程。下面我们回到最开始的问题，用数据回归的结果预测一下我们前面提到的房屋价格问题。按照根据全网的数据回归结果计算其合理的估价。"
   ]
  },
  {
   "cell_type": "code",
   "execution_count": 10,
   "metadata": {},
   "outputs": [
    {
     "name": "stdout",
     "output_type": "stream",
     "text": [
      "根据58同城 191 条二手房屋信息，您北京市海淀区五道口 110 平方米房屋预估价格约为 1159 万元。\n"
     ]
    }
   ],
   "source": [
    "area = 110\n",
    "price = linreg.intercept_ + (linreg.coef_ * area )\n",
    "print('根据58同城',len(X),'条二手房屋信息，您北京市海淀区五道口',area,'平方米房屋预估价格约为',int(price),'万元。')"
   ]
  },
  {
   "cell_type": "markdown",
   "metadata": {},
   "source": [
    "## 3.2 自己编程梯度下降算法实现线性回归"
   ]
  },
  {
   "cell_type": "markdown",
   "metadata": {},
   "source": [
    "用sklearn实现机器学习的过程非常的简单，但是就像一个黑箱子一样，我们不知道里面到底发生了什么。那么，接下来我们就通过自己编写梯度下降算法来看看这条直线是如何用Python程序画出来的。"
   ]
  },
  {
   "cell_type": "markdown",
   "metadata": {},
   "source": [
    "### a. 损失函数"
   ]
  },
  {
   "cell_type": "markdown",
   "metadata": {},
   "source": [
    "如何画直线可以更好地表示这些数据点的趋势？在众多的选择中应该有一个能够**量化的标准**，这个标准就是**损失函数（Cost Function)**，也有人叫代价函数。损失函数可以量化我们画出来的每条线与真实的数据之间的相对误差值，其数值越小，说明我们的拟合结果和真实的数据越接近。"
   ]
  },
  {
   "cell_type": "markdown",
   "metadata": {},
   "source": [
    "在线性回归问题里，我们常用误差的平方和来表示损失函数。其公式如下："
   ]
  },
  {
   "cell_type": "markdown",
   "metadata": {},
   "source": [
    "$$J\\left( \\theta  \\right)=\\frac{1}{2m}\\sum\\limits_{i=1}^{m}{{{\\left( {{h}_{\\theta }}\\left( {{x}^{(i)}} \\right)-{{y}^{(i)}} \\right)}^{2}}}$$\n",
    "其中，对于我们的问题，只需要2个未知数，即直线的截距 ${\\theta }_{0}$ 和和斜率 ${\\theta }_{1}$ ：\n",
    "\\\\[{{h}_{\\theta }}\\left( x \\right)={{\\theta }^{T}}X={{\\theta }_{0}}{{x}_{0}}+{{\\theta }_{1}}{{x}_{1}}\\\\] "
   ]
  },
  {
   "cell_type": "markdown",
   "metadata": {},
   "source": [
    "那么，下面就通过Python代码来实现这个问题的损失函数。"
   ]
  },
  {
   "cell_type": "code",
   "execution_count": 11,
   "metadata": {},
   "outputs": [],
   "source": [
    "def costJ(theta,X,y):\n",
    "    error2 = np.square(X * theta.T - y)\n",
    "    cost = 1/(2*len(df)) * np.sum(error2)\n",
    "    return cost"
   ]
  },
  {
   "cell_type": "markdown",
   "metadata": {},
   "source": [
    "我们需要通过数据去训练 ${\\theta }$ 数值，先定义初始的 ${\\theta }$ 为两个0。此时不管 $X$ 等于多少，预测的结果都将是0，即我们得到了一条 $y=0$ 的直线。\n",
    "后面我们要介绍的梯度下降算法会让 ${\\theta }$ 数值在训练中自动更新，以获得更小的损失数值。"
   ]
  },
  {
   "cell_type": "code",
   "execution_count": 12,
   "metadata": {},
   "outputs": [
    {
     "data": {
      "text/plain": [
       "(1, 2)"
      ]
     },
     "execution_count": 12,
     "metadata": {},
     "output_type": "execute_result"
    }
   ],
   "source": [
    "theta = np.mat(np.zeros(2))\n",
    "theta.shape"
   ]
  },
  {
   "cell_type": "markdown",
   "metadata": {},
   "source": [
    "接下来，我们来准备下前面抓取的房价数据，以便把他们带入到公式中。这里 $X$ 需要做一些处理，我们在前面加一列1，作为 $x_0$ ，从而在过程中方便使用向量进行计算。可以看到，处理之后的 $X$ 为191行2列， $y$ 为191行1列的矩阵。"
   ]
  },
  {
   "cell_type": "code",
   "execution_count": 13,
   "metadata": {},
   "outputs": [
    {
     "data": {
      "text/plain": [
       "((191, 2), (191, 1))"
      ]
     },
     "execution_count": 13,
     "metadata": {},
     "output_type": "execute_result"
    }
   ],
   "source": [
    "X = np.mat(df.area).T\n",
    "X = np.insert(X, 0, 1, axis=1)\n",
    "y = np.mat(df.price).T\n",
    "X.shape, y.shape"
   ]
  },
  {
   "cell_type": "markdown",
   "metadata": {},
   "source": [
    "把准备好的数据带入定义好的损失函数，我们来看下此时用初始的 ${\\theta }$ 计算代价函数的结果。结果显示 ${\\theta }=[0，0]$ 时的累计误差平方和为107万。"
   ]
  },
  {
   "cell_type": "code",
   "execution_count": 14,
   "metadata": {},
   "outputs": [
    {
     "data": {
      "text/plain": [
       "1071600.9137172773"
      ]
     },
     "execution_count": 14,
     "metadata": {},
     "output_type": "execute_result"
    }
   ],
   "source": [
    "costJ(theta,X,y)"
   ]
  },
  {
   "cell_type": "markdown",
   "metadata": {},
   "source": [
    "### b. 梯度下降算法"
   ]
  },
  {
   "cell_type": "markdown",
   "metadata": {},
   "source": [
    "梯度下降法是机器学习中一种常用的求函数最小值的算法。可以形象地理解为，当你站在一座小山上，你想找到一条能够快速下山的路线。那么你就需要边走边观察周围的环境，从而确定自己每一步的前进方向。梯度下降算法就是用梯度去寻找函数极值的方法。\n",
    "此时我们好需要设置学习率 $\\alpha \\$ 和循环次数两个参数。在下山的问题中，前者你可以想象为我们的步子的大小，后者即我们的总步数。"
   ]
  },
  {
   "cell_type": "markdown",
   "metadata": {},
   "source": [
    "$${{\\theta }_{j}}:={{\\theta }_{j}}-\\alpha \\frac{\\partial }{\\partial {{\\theta }_{j}}}J\\left( \\theta  \\right)$$"
   ]
  },
  {
   "cell_type": "code",
   "execution_count": 15,
   "metadata": {},
   "outputs": [],
   "source": [
    "def gradientdescent(theta,X,y,n,alpha):\n",
    "    temp = np.mat(np.zeros(theta.size))\n",
    "    cost = np.zeros(n)\n",
    "    for i in range(n):\n",
    "        for j in range(theta.size):\n",
    "            temp = alpha / len(df) * (X[:,j].T * (X * theta.T - y))\n",
    "            theta[0,j] = theta[0,j] - temp\n",
    "        cost[i] = costJ(theta,X,y)\n",
    "    return theta, cost"
   ]
  },
  {
   "cell_type": "markdown",
   "metadata": {},
   "source": [
    "这里经过尝试，我们选择学习率0.00003。"
   ]
  },
  {
   "cell_type": "code",
   "execution_count": 16,
   "metadata": {},
   "outputs": [],
   "source": [
    "n = 100\n",
    "alpha = 0.00003"
   ]
  },
  {
   "cell_type": "code",
   "execution_count": 17,
   "metadata": {},
   "outputs": [],
   "source": [
    "theta, cost = gradientdescent(theta,X,y,n,alpha)"
   ]
  },
  {
   "cell_type": "markdown",
   "metadata": {},
   "source": [
    "查看最终结果，可以看到经过100次迭代之后，$theta$ 的计算结果如下。"
   ]
  },
  {
   "cell_type": "code",
   "execution_count": 18,
   "metadata": {},
   "outputs": [
    {
     "data": {
      "text/plain": [
       "matrix([[-0.16047161, 11.1821724 ]])"
      ]
     },
     "execution_count": 18,
     "metadata": {},
     "output_type": "execute_result"
    }
   ],
   "source": [
    "theta "
   ]
  },
  {
   "cell_type": "markdown",
   "metadata": {},
   "source": [
    "最终的损失函数结果如下，经过迭代相比之前的结果有明显的减小。"
   ]
  },
  {
   "cell_type": "code",
   "execution_count": 19,
   "metadata": {},
   "outputs": [
    {
     "data": {
      "text/plain": [
       "63046.23910191417"
      ]
     },
     "execution_count": 19,
     "metadata": {},
     "output_type": "execute_result"
    }
   ],
   "source": [
    "cost[n-1]"
   ]
  },
  {
   "cell_type": "markdown",
   "metadata": {},
   "source": [
    "下面我们把计算的获得的截距和斜率带入直线方程，与原始训练集数据画在一起。"
   ]
  },
  {
   "cell_type": "code",
   "execution_count": 20,
   "metadata": {},
   "outputs": [
    {
     "data": {
      "image/png": "[encoded data removed]",
      "text/plain": [
       "<Figure size 864x576 with 1 Axes>"
      ]
     },
     "metadata": {
      "needs_background": "light"
     },
     "output_type": "display_data"
    }
   ],
   "source": [
    "x_p = np.linspace(df.area.min(), df.area.max(), 100)\n",
    "y_p = theta[0, 0] + (theta[0, 1] * x_p)\n",
    "\n",
    "fig, ax = plt.subplots(figsize=(12,8))\n",
    "ax.plot(x_p, y_p, 'r', label='Prediction')\n",
    "ax.scatter(df.area, df.price, label='Traning Data')\n",
    "ax.legend(loc=2)\n",
    "ax.set_xlabel('Area')\n",
    "ax.set_ylabel('Price')\n",
    "ax.set_title('Price regression')\n",
    "plt.show()"
   ]
  },
  {
   "cell_type": "markdown",
   "metadata": {},
   "source": [
    "### c. 学习率的影响"
   ]
  },
  {
   "cell_type": "markdown",
   "metadata": {},
   "source": [
    "学习率的选择对结果有很大的影响。可以想象，在我们下山的比喻中，学习率就是步子大小，步子太小了我们下山就比较慢，步子大到一定程度横跨山谷了就有可能就无法走到最低点，当然后面的这个比喻有点不太贴切，对于人来说，步子再大也达不到跨过山谷，但是在算法中，这个还是有可能发生的，学习率过大会导致结果无法收敛。因此，找到一个适合对学习率将能够有效提升梯度下降算法的速率。"
   ]
  },
  {
   "cell_type": "markdown",
   "metadata": {},
   "source": [
    "我们来看下在梯度下降算法的100次迭代过程中，损失函数的下降情况。在我们选择的学习率下，只需要不到10次迭代损失函数就收敛于一个相对稳定的数值了。"
   ]
  },
  {
   "cell_type": "code",
   "execution_count": 21,
   "metadata": {},
   "outputs": [
    {
     "data": {
      "image/png": "[encoded data removed]",
      "text/plain": [
       "<Figure size 576x432 with 1 Axes>"
      ]
     },
     "metadata": {
      "needs_background": "light"
     },
     "output_type": "display_data"
    }
   ],
   "source": [
    "iter = np.arange(0,n)\n",
    "fig, ax = plt.subplots(figsize=(8,6))\n",
    "ax.plot(iter, cost, label='Traning Data')\n",
    "ax.legend(loc=2)\n",
    "ax.set_xlabel('iter')\n",
    "ax.set_ylabel('cost')\n",
    "ax.set_title('Descent')\n",
    "plt.show()"
   ]
  },
  {
   "cell_type": "markdown",
   "metadata": {},
   "source": [
    "接下来我们把学习率的数值减小。可以看到其收敛的速度明显变慢。"
   ]
  },
  {
   "cell_type": "code",
   "execution_count": 22,
   "metadata": {},
   "outputs": [],
   "source": [
    "alpha = 0.000003\n",
    "theta = np.mat(np.zeros(2))"
   ]
  },
  {
   "cell_type": "code",
   "execution_count": 23,
   "metadata": {},
   "outputs": [],
   "source": [
    "theta, cost = gradientdescent(theta,X,y,n,alpha)"
   ]
  },
  {
   "cell_type": "code",
   "execution_count": 24,
   "metadata": {},
   "outputs": [
    {
     "data": {
      "image/png": "[encoded data removed]",
      "text/plain": [
       "<Figure size 576x432 with 1 Axes>"
      ]
     },
     "metadata": {
      "needs_background": "light"
     },
     "output_type": "display_data"
    }
   ],
   "source": [
    "iter = np.arange(0,n)\n",
    "fig, ax = plt.subplots(figsize=(8,6))\n",
    "ax.plot(iter, cost, label='Traning Data')\n",
    "ax.legend(loc=2)\n",
    "ax.set_xlabel('iter')\n",
    "ax.set_ylabel('cost')\n",
    "ax.set_title('Descent')\n",
    "plt.show()"
   ]
  },
  {
   "cell_type": "markdown",
   "metadata": {},
   "source": [
    "下面，我们把学习率放大再看下结果，可以发现，损失函数的结果在迭代过程中产生了发散。这样的结果无法使用。"
   ]
  },
  {
   "cell_type": "code",
   "execution_count": 25,
   "metadata": {},
   "outputs": [],
   "source": [
    "alpha = 0.0003\n",
    "theta = np.mat(np.zeros(2))"
   ]
  },
  {
   "cell_type": "code",
   "execution_count": 26,
   "metadata": {},
   "outputs": [],
   "source": [
    "theta, cost = gradientdescent(theta,X,y,n,alpha)"
   ]
  },
  {
   "cell_type": "code",
   "execution_count": 27,
   "metadata": {},
   "outputs": [
    {
     "data": {
      "image/png": "[encoded data removed]",
      "text/plain": [
       "<Figure size 576x432 with 1 Axes>"
      ]
     },
     "metadata": {
      "needs_background": "light"
     },
     "output_type": "display_data"
    }
   ],
   "source": [
    "iter = np.arange(0,n)\n",
    "fig, ax = plt.subplots(figsize=(8,6))\n",
    "ax.plot(iter, cost, label='Traning Data')\n",
    "ax.legend(loc=2)\n",
    "ax.set_xlabel('iter')\n",
    "ax.set_ylabel('cost')\n",
    "ax.set_title('Descent')\n",
    "plt.show()"
   ]
  },
  {
   "cell_type": "markdown",
   "metadata": {},
   "source": [
    "以上就是我们这个例子的整个过程。我们首先用后羿数据采集器抓取了网络数据，然后用python对数据进行了简单的清洗，接下来通过使用现有的sklearn库和自己编程梯度下降算法分别实现了线性回归并对房屋价格进行了估计。最后我们又对比了不同学习率对于计算结果的影响。\n",
    "\n",
    "如果对于机器学习具体原理不感兴趣的小伙伴可以只参考前半部分，如何通过后羿数据采集器抓取网络数据及使用sklearn库进行线性回归。"
   ]
  },
  {
   "cell_type": "markdown",
   "metadata": {},
   "source": [
    "以上内容仅作为入门机器学习的Hello world。现在强大python第三方库和互联网资源可以让我们这些非计算及专业出身的人轻松学习和使用机器学习的资源，并对自己的数据进行分析。"
   ]
  },
  {
   "cell_type": "markdown",
   "metadata": {},
   "source": [
    "最后，感谢Andrew Ng（吴恩达）老师、李骏老师、黄海广博士及58同城提供的宝贵资源。"
   ]
  },
  {
   "cell_type": "markdown",
   "metadata": {},
   "source": [
    "# 附：简版10行Python代码"
   ]
  },
  {
   "cell_type": "code",
   "execution_count": 28,
   "metadata": {},
   "outputs": [
    {
     "name": "stdout",
     "output_type": "stream",
     "text": [
      "根据58同城 191 条二手房屋信息，您北京市海淀区五道口 110 平方米房屋预估价格约为 1159 万元。\n"
     ]
    }
   ],
   "source": [
    "import pandas as pd\n",
    "import numpy as np\n",
    "from sklearn.linear_model import LinearRegression\n",
    "\n",
    "df = pd.read_excel('assets/58data.xlsx','sheet1',names = ['name','link','area','price'])\n",
    "df['area'] = (df['area'].apply(lambda x:x[:-1])).astype('float64')\n",
    "X = np.mat(df.area).T\n",
    "y = np.mat(df.price).T\n",
    "\n",
    "linreg = LinearRegression().fit(X, y)\n",
    "\n",
    "area = 110  # 预测房屋面积\n",
    "print('根据58同城',len(X),'条二手房屋信息，您北京市海淀区五道口 110 平方米房屋预估价格约为',int(linreg.intercept_ + (linreg.coef_ * area )),'万元。')"
   ]
  }
 ],
 "metadata": {
  "kernelspec": {
   "display_name": "Python 3",
   "language": "python",
   "name": "python3"
  },
  "language_info": {
   "codemirror_mode": {
    "name": "ipython",
    "version": 3
   },
   "file_extension": ".py",
   "mimetype": "text/x-python",
   "name": "python",
   "nbconvert_exporter": "python",
   "pygments_lexer": "ipython3",
   "version": "3.7.6"
  }
 },
 "nbformat": 4,
 "nbformat_minor": 4
}
